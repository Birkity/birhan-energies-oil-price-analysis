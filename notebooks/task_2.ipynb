{
 "cells": [
  {
   "cell_type": "markdown",
   "metadata": {},
   "source": [
    "### Step 1: Import Libraries and Load Data"
   ]
  },
  {
   "cell_type": "code",
   "execution_count": 113,
   "metadata": {},
   "outputs": [
    {
     "name": "stdout",
     "output_type": "stream",
     "text": [
      "Requirement already satisfied: statsmodels in c:\\users\\user\\documents\\oplearning\\10_academy\\week_10\\myenv\\lib\\site-packages (0.14.4)\n",
      "Requirement already satisfied: numpy<3,>=1.22.3 in c:\\users\\user\\documents\\oplearning\\10_academy\\week_10\\myenv\\lib\\site-packages (from statsmodels) (2.1.2)\n",
      "Requirement already satisfied: scipy!=1.9.2,>=1.8 in c:\\users\\user\\documents\\oplearning\\10_academy\\week_10\\myenv\\lib\\site-packages (from statsmodels) (1.14.1)\n",
      "Requirement already satisfied: pandas!=2.1.0,>=1.4 in c:\\users\\user\\documents\\oplearning\\10_academy\\week_10\\myenv\\lib\\site-packages (from statsmodels) (2.2.3)\n",
      "Requirement already satisfied: patsy>=0.5.6 in c:\\users\\user\\documents\\oplearning\\10_academy\\week_10\\myenv\\lib\\site-packages (from statsmodels) (0.5.6)\n",
      "Requirement already satisfied: packaging>=21.3 in c:\\users\\user\\documents\\oplearning\\10_academy\\week_10\\myenv\\lib\\site-packages (from statsmodels) (24.1)\n",
      "Requirement already satisfied: python-dateutil>=2.8.2 in c:\\users\\user\\documents\\oplearning\\10_academy\\week_10\\myenv\\lib\\site-packages (from pandas!=2.1.0,>=1.4->statsmodels) (2.9.0.post0)\n",
      "Requirement already satisfied: pytz>=2020.1 in c:\\users\\user\\documents\\oplearning\\10_academy\\week_10\\myenv\\lib\\site-packages (from pandas!=2.1.0,>=1.4->statsmodels) (2024.2)\n",
      "Requirement already satisfied: tzdata>=2022.7 in c:\\users\\user\\documents\\oplearning\\10_academy\\week_10\\myenv\\lib\\site-packages (from pandas!=2.1.0,>=1.4->statsmodels) (2024.2)\n",
      "Requirement already satisfied: six in c:\\users\\user\\documents\\oplearning\\10_academy\\week_10\\myenv\\lib\\site-packages (from patsy>=0.5.6->statsmodels) (1.16.0)\n",
      "Note: you may need to restart the kernel to use updated packages.\n"
     ]
    }
   ],
   "source": [
    "%pip install statsmodels"
   ]
  },
  {
   "cell_type": "code",
   "execution_count": 114,
   "metadata": {},
   "outputs": [],
   "source": [
    "import pandas as pd\n",
    "import numpy as np\n",
    "import matplotlib.pyplot as plt\n",
    "import seaborn as sns\n",
    "from statsmodels.tsa.stattools import adfuller\n",
    "from statsmodels.tsa.vector_ar.var_model import VAR\n",
    "from statsmodels.tsa.regime_switching.markov_switching import MarkovSwitching\n",
    "from sklearn.metrics import mean_absolute_error, mean_squared_error\n",
    "\n",
    "\n",
    "brent_prices = pd.read_csv(\"../data/cleaned_data.csv\")  \n",
    "exchange_rates = pd.read_csv(\"../data/data_collected/Exchange_rates.csv\", skiprows=4)\n",
    "inflation = pd.read_csv(\"../data/data_collected/inflation.csv\", skiprows=4)\n",
    "gdp_growth = pd.read_csv(\"../data/data_collected/GDP_growth.csv\", skiprows=4)\n"
   ]
  },
  {
   "cell_type": "code",
   "execution_count": 115,
   "metadata": {},
   "outputs": [
    {
     "name": "stdout",
     "output_type": "stream",
     "text": [
      "         Date  Price\n",
      "0  1987-05-20  18.63\n",
      "1  1987-05-21  18.45\n",
      "2  1987-05-22  18.55\n",
      "3  1987-05-25  18.60\n",
      "4  1987-05-26  18.63\n"
     ]
    }
   ],
   "source": [
    "print(brent_prices.head())"
   ]
  },
  {
   "cell_type": "markdown",
   "metadata": {},
   "source": [
    "### Step 2: Inspect Datasets and Convert Dates"
   ]
  },
  {
   "cell_type": "code",
   "execution_count": 116,
   "metadata": {},
   "outputs": [
    {
     "name": "stdout",
     "output_type": "stream",
     "text": [
      "                  Country Name Country Code         Indicator Name  \\\n",
      "0                        Aruba          ABW  GDP growth (annual %)   \n",
      "1  Africa Eastern and Southern          AFE  GDP growth (annual %)   \n",
      "2                  Afghanistan          AFG  GDP growth (annual %)   \n",
      "3   Africa Western and Central          AFW  GDP growth (annual %)   \n",
      "4                       Angola          AGO  GDP growth (annual %)   \n",
      "\n",
      "      Indicator Code  1960      1961      1962      1963      1964      1965  \\\n",
      "0  NY.GDP.MKTP.KD.ZG   NaN       NaN       NaN       NaN       NaN       NaN   \n",
      "1  NY.GDP.MKTP.KD.ZG   NaN  0.460106  7.868013  5.616400  4.668135  5.138990   \n",
      "2  NY.GDP.MKTP.KD.ZG   NaN       NaN       NaN       NaN       NaN       NaN   \n",
      "3  NY.GDP.MKTP.KD.ZG   NaN  1.873455  3.707643  7.145784  5.406403  4.102491   \n",
      "4  NY.GDP.MKTP.KD.ZG   NaN       NaN       NaN       NaN       NaN       NaN   \n",
      "\n",
      "   ...      2015      2016      2017      2018      2019       2020  \\\n",
      "0  ... -0.623626  1.719625  7.048533  2.381730 -2.302836 -23.982581   \n",
      "1  ...  3.011572  2.183581  2.651400  2.681718  2.189259  -2.780379   \n",
      "2  ...  1.451315  2.260314  2.647003  1.189228  3.911603  -2.351101   \n",
      "3  ...  2.813979  0.141489  2.284961  2.842645  3.222029  -1.004417   \n",
      "4  ...  0.943572 -2.580111 -0.147150 -1.316362 -0.702273  -5.638215   \n",
      "\n",
      "        2021       2022      2023  Unnamed: 68  \n",
      "0  27.639357  10.458317       NaN          NaN  \n",
      "1   4.497380   3.554422  2.622310          NaN  \n",
      "2 -20.738839  -6.240172       NaN          NaN  \n",
      "3   3.994854   3.784486  3.342776          NaN  \n",
      "4   1.199211   3.045403  0.856001          NaN  \n",
      "\n",
      "[5 rows x 69 columns]\n",
      "                  Country Name Country Code  \\\n",
      "0                        Aruba          ABW   \n",
      "1  Africa Eastern and Southern          AFE   \n",
      "2                  Afghanistan          AFG   \n",
      "3   Africa Western and Central          AFW   \n",
      "4                       Angola          AGO   \n",
      "\n",
      "                                      Indicator Name Indicator Code  \\\n",
      "0  Official exchange rate (LCU per US$, period av...    PA.NUS.FCRF   \n",
      "1  Official exchange rate (LCU per US$, period av...    PA.NUS.FCRF   \n",
      "2  Official exchange rate (LCU per US$, period av...    PA.NUS.FCRF   \n",
      "3  Official exchange rate (LCU per US$, period av...    PA.NUS.FCRF   \n",
      "4  Official exchange rate (LCU per US$, period av...    PA.NUS.FCRF   \n",
      "\n",
      "           1960          1961          1962          1963          1964  \\\n",
      "0           NaN           NaN           NaN           NaN           NaN   \n",
      "1           NaN           NaN           NaN           NaN           NaN   \n",
      "2  1.719656e+01  1.719656e+01  1.719656e+01  3.510964e+01  3.869226e+01   \n",
      "3           NaN           NaN           NaN           NaN           NaN   \n",
      "4  2.866844e-08  2.873486e-08  2.867844e-08  2.875203e-08  2.881978e-08   \n",
      "\n",
      "           1965  ...        2015        2016        2017        2018  \\\n",
      "0           NaN  ...    1.790000    1.790000    1.790000    1.790000   \n",
      "1           NaN  ...         NaN         NaN         NaN         NaN   \n",
      "2  3.869226e+01  ...   61.143462   67.866086   68.026904   72.083247   \n",
      "3           NaN  ...         NaN         NaN         NaN         NaN   \n",
      "4  2.877853e-08  ...  120.060702  163.656434  165.915951  252.855748   \n",
      "\n",
      "         2019        2020        2021        2022        2023  Unnamed: 68  \n",
      "0    1.790000    1.790000    1.790000    1.790000    1.790000          NaN  \n",
      "1         NaN         NaN         NaN         NaN         NaN          NaN  \n",
      "2   77.737949   76.813536         NaN         NaN         NaN          NaN  \n",
      "3         NaN         NaN         NaN         NaN         NaN          NaN  \n",
      "4  364.825805  578.258780  631.441956  460.567512  685.020238          NaN  \n",
      "\n",
      "[5 rows x 69 columns]\n",
      "                  Country Name Country Code  \\\n",
      "0                        Aruba          ABW   \n",
      "1  Africa Eastern and Southern          AFE   \n",
      "2                  Afghanistan          AFG   \n",
      "3   Africa Western and Central          AFW   \n",
      "4                       Angola          AGO   \n",
      "\n",
      "                          Indicator Name  Indicator Code  1960  1961  1962  \\\n",
      "0  Inflation, consumer prices (annual %)  FP.CPI.TOTL.ZG   NaN   NaN   NaN   \n",
      "1  Inflation, consumer prices (annual %)  FP.CPI.TOTL.ZG   NaN   NaN   NaN   \n",
      "2  Inflation, consumer prices (annual %)  FP.CPI.TOTL.ZG   NaN   NaN   NaN   \n",
      "3  Inflation, consumer prices (annual %)  FP.CPI.TOTL.ZG   NaN   NaN   NaN   \n",
      "4  Inflation, consumer prices (annual %)  FP.CPI.TOTL.ZG   NaN   NaN   NaN   \n",
      "\n",
      "   1963  1964  1965  ...      2015       2016       2017       2018  \\\n",
      "0   NaN   NaN   NaN  ...  0.474764  -0.931196  -1.028282   3.626041   \n",
      "1   NaN   NaN   NaN  ...  5.245878   6.571396   6.399343   4.720805   \n",
      "2   NaN   NaN   NaN  ... -0.661709   4.383892   4.975952   0.626149   \n",
      "3   NaN   NaN   NaN  ...  2.130817   1.487416   1.725486   1.784050   \n",
      "4   NaN   NaN   NaN  ...  9.355972  30.694415  29.844480  19.628938   \n",
      "\n",
      "        2019       2020       2021       2022       2023  Unnamed: 68  \n",
      "0   4.257462        NaN        NaN        NaN        NaN          NaN  \n",
      "1   4.653665   5.405162   7.240978  10.773751   7.126975          NaN  \n",
      "2   2.302373        NaN        NaN        NaN        NaN          NaN  \n",
      "3   1.760112   2.437609   3.653533   7.967574   4.670084          NaN  \n",
      "4  17.080954  22.271539  25.754295  21.355290  13.644102          NaN  \n",
      "\n",
      "[5 rows x 69 columns]\n"
     ]
    }
   ],
   "source": [
    "print(gdp_growth.head())\n",
    "print(exchange_rates.head())\n",
    "print(inflation.head())\n"
   ]
  },
  {
   "cell_type": "markdown",
   "metadata": {},
   "source": [
    "### Merge Economic Indicators"
   ]
  },
  {
   "cell_type": "code",
   "execution_count": 117,
   "metadata": {},
   "outputs": [],
   "source": [
    "exchange_rates_long = exchange_rates.melt(id_vars=[\"Country Name\", \"Country Code\"], \n",
    "                                          var_name=\"Year\", \n",
    "                                          value_name=\"Exchange Rate\")\n",
    "exchange_rates_long[\"Year\"] = pd.to_numeric(exchange_rates_long[\"Year\"], errors='coerce')\n",
    "\n",
    "inflation_long = inflation.melt(id_vars=[\"Country Name\", \"Country Code\"], \n",
    "                                var_name=\"Year\", \n",
    "                                value_name=\"Inflation\")\n",
    "inflation_long[\"Year\"] = pd.to_numeric(inflation_long[\"Year\"], errors='coerce')\n",
    "\n",
    "gdp_growth_long = gdp_growth.melt(id_vars=[\"Country Name\", \"Country Code\"], \n",
    "                                  var_name=\"Year\", \n",
    "                                  value_name=\"GDP Growth\")\n",
    "gdp_growth_long[\"Year\"] = pd.to_numeric(gdp_growth_long[\"Year\"], errors='coerce')\n"
   ]
  },
  {
   "cell_type": "code",
   "execution_count": 118,
   "metadata": {},
   "outputs": [
    {
     "name": "stdout",
     "output_type": "stream",
     "text": [
      "Merged Economic Data:\n",
      "   Country Name Country Code  Year  \\\n",
      "0        Aruba          ABW   NaN   \n",
      "1        Aruba          ABW   NaN   \n",
      "2        Aruba          ABW   NaN   \n",
      "3        Aruba          ABW   NaN   \n",
      "4        Aruba          ABW   NaN   \n",
      "\n",
      "                                       Exchange Rate  \\\n",
      "0  Official exchange rate (LCU per US$, period av...   \n",
      "1  Official exchange rate (LCU per US$, period av...   \n",
      "2  Official exchange rate (LCU per US$, period av...   \n",
      "3  Official exchange rate (LCU per US$, period av...   \n",
      "4  Official exchange rate (LCU per US$, period av...   \n",
      "\n",
      "                               Inflation             GDP Growth  \n",
      "0  Inflation, consumer prices (annual %)  GDP growth (annual %)  \n",
      "1  Inflation, consumer prices (annual %)      NY.GDP.MKTP.KD.ZG  \n",
      "2  Inflation, consumer prices (annual %)                    NaN  \n",
      "3                         FP.CPI.TOTL.ZG  GDP growth (annual %)  \n",
      "4                         FP.CPI.TOTL.ZG      NY.GDP.MKTP.KD.ZG  \n"
     ]
    }
   ],
   "source": [
    "merged_economic_data = pd.merge(exchange_rates_long, inflation_long, on=[\"Country Name\", \"Country Code\", \"Year\"], how=\"inner\")\n",
    "merged_economic_data = pd.merge(merged_economic_data, gdp_growth_long, on=[\"Country Name\", \"Country Code\", \"Year\"], how=\"inner\")\n",
    "\n",
    "\n",
    "print(\"Merged Economic Data:\\n\", merged_economic_data.head())"
   ]
  },
  {
   "cell_type": "code",
   "execution_count": 119,
   "metadata": {},
   "outputs": [],
   "source": [
    "merged_economic_data.to_csv('../data/merged_data.csv')"
   ]
  },
  {
   "cell_type": "code",
   "execution_count": 120,
   "metadata": {},
   "outputs": [],
   "source": [
    "merged_economic_data_2 = pd.read_csv('../data/merged_economic_indicators.csv')"
   ]
  },
  {
   "cell_type": "code",
   "execution_count": 121,
   "metadata": {},
   "outputs": [
    {
     "name": "stdout",
     "output_type": "stream",
     "text": [
      "Filtered Economic Data:\n",
      "   Country Name Country Code  Year  \\\n",
      "0        Aruba          ABW   NaN   \n",
      "1        Aruba          ABW   NaN   \n",
      "2        Aruba          ABW   NaN   \n",
      "3        Aruba          ABW   NaN   \n",
      "4        Aruba          ABW   NaN   \n",
      "\n",
      "                                       Exchange Rate  \\\n",
      "0  Official exchange rate (LCU per US$, period av...   \n",
      "1  Official exchange rate (LCU per US$, period av...   \n",
      "2  Official exchange rate (LCU per US$, period av...   \n",
      "3  Official exchange rate (LCU per US$, period av...   \n",
      "4  Official exchange rate (LCU per US$, period av...   \n",
      "\n",
      "                               Inflation             GDP Growth  \n",
      "0  Inflation, consumer prices (annual %)  GDP growth (annual %)  \n",
      "1  Inflation, consumer prices (annual %)      NY.GDP.MKTP.KD.ZG  \n",
      "2  Inflation, consumer prices (annual %)                    NaN  \n",
      "3                         FP.CPI.TOTL.ZG  GDP growth (annual %)  \n",
      "4                         FP.CPI.TOTL.ZG      NY.GDP.MKTP.KD.ZG  \n"
     ]
    }
   ],
   "source": [
    "years_needed = merged_economic_data['Year'].unique()\n",
    "\n",
    "filtered_economic_data = merged_economic_data[merged_economic_data['Year'].isin(years_needed)]\n",
    "print(\"Filtered Economic Data:\\n\", filtered_economic_data.head())"
   ]
  },
  {
   "cell_type": "markdown",
   "metadata": {},
   "source": [
    "### Correlation Analysis"
   ]
  },
  {
   "cell_type": "code",
   "execution_count": null,
   "metadata": {},
   "outputs": [
    {
     "name": "stdout",
     "output_type": "stream",
     "text": [
      "Correlation Matrix:\n",
      "                   Price  Exchange Rate  Inflation  GDP Growth\n",
      "Price          1.000000       0.018857  -0.049938    0.040926\n",
      "Exchange Rate  0.018857       1.000000  -0.007873   -0.038054\n",
      "Inflation     -0.049938      -0.007873   1.000000   -0.067946\n",
      "GDP Growth     0.040926      -0.038054  -0.067946    1.000000\n"
     ]
    },
    {
     "data": {
      "image/png": "[encoded data removed]",
      "text/plain": [
       "<Figure size 640x480 with 2 Axes>"
      ]
     },
     "metadata": {},
     "output_type": "display_data"
    }
   ],
   "source": [
    "brent_annual = merged_economic_data_2.groupby(\"Year\")['Price'].mean().reset_index()\n",
    "combined_data = pd.merge(brent_annual, filtered_economic_data, on=\"Year\", how=\"inner\")\n",
    "\n",
    "correlation_matrix = combined_data[['Price', 'Exchange Rate', 'Inflation', 'GDP Growth']].corr()\n",
    "print(\"Correlation Matrix:\\n\", correlation_matrix)\n",
    "\n",
    "sns.heatmap(correlation_matrix, annot=True, cmap='coolwarm')\n",
    "plt.title(\"Correlation Matrix Between Brent Price and Economic Indicators\")\n",
    "plt.show()\n"
   ]
  },
  {
   "cell_type": "code",
   "execution_count": 123,
   "metadata": {},
   "outputs": [],
   "source": [
    "combined_data.to_csv('../data/final.csv')"
   ]
  },
  {
   "cell_type": "code",
   "execution_count": 124,
   "metadata": {},
   "outputs": [
    {
     "data": {
      "text/html": [
       "<div>\n",
       "<style scoped>\n",
       "    .dataframe tbody tr th:only-of-type {\n",
       "        vertical-align: middle;\n",
       "    }\n",
       "\n",
       "    .dataframe tbody tr th {\n",
       "        vertical-align: top;\n",
       "    }\n",
       "\n",
       "    .dataframe thead th {\n",
       "        text-align: right;\n",
       "    }\n",
       "</style>\n",
       "<table border=\"1\" class=\"dataframe\">\n",
       "  <thead>\n",
       "    <tr style=\"text-align: right;\">\n",
       "      <th></th>\n",
       "      <th>Year</th>\n",
       "      <th>Price</th>\n",
       "      <th>Country Name</th>\n",
       "      <th>Country Code</th>\n",
       "      <th>Exchange Rate</th>\n",
       "      <th>Inflation</th>\n",
       "      <th>GDP Growth</th>\n",
       "    </tr>\n",
       "  </thead>\n",
       "  <tbody>\n",
       "    <tr>\n",
       "      <th>0</th>\n",
       "      <td>1987</td>\n",
       "      <td>18.525813</td>\n",
       "      <td>Aruba</td>\n",
       "      <td>ABW</td>\n",
       "      <td>1.79</td>\n",
       "      <td>3.643045</td>\n",
       "      <td>16.078431</td>\n",
       "    </tr>\n",
       "    <tr>\n",
       "      <th>1</th>\n",
       "      <td>1987</td>\n",
       "      <td>18.525813</td>\n",
       "      <td>Africa Eastern and Southern</td>\n",
       "      <td>AFE</td>\n",
       "      <td>NaN</td>\n",
       "      <td>12.563443</td>\n",
       "      <td>3.964516</td>\n",
       "    </tr>\n",
       "    <tr>\n",
       "      <th>2</th>\n",
       "      <td>1987</td>\n",
       "      <td>18.525813</td>\n",
       "      <td>Afghanistan</td>\n",
       "      <td>AFG</td>\n",
       "      <td>39.276429</td>\n",
       "      <td>NaN</td>\n",
       "      <td>NaN</td>\n",
       "    </tr>\n",
       "    <tr>\n",
       "      <th>3</th>\n",
       "      <td>1987</td>\n",
       "      <td>18.525813</td>\n",
       "      <td>Africa Western and Central</td>\n",
       "      <td>AFW</td>\n",
       "      <td>NaN</td>\n",
       "      <td>0.248789</td>\n",
       "      <td>1.404582</td>\n",
       "    </tr>\n",
       "    <tr>\n",
       "      <th>4</th>\n",
       "      <td>1987</td>\n",
       "      <td>18.525813</td>\n",
       "      <td>Angola</td>\n",
       "      <td>AGO</td>\n",
       "      <td>0.0</td>\n",
       "      <td>NaN</td>\n",
       "      <td>4.082749</td>\n",
       "    </tr>\n",
       "  </tbody>\n",
       "</table>\n",
       "</div>"
      ],
      "text/plain": [
       "   Year      Price                 Country Name Country Code Exchange Rate  \\\n",
       "0  1987  18.525813                        Aruba          ABW          1.79   \n",
       "1  1987  18.525813  Africa Eastern and Southern          AFE           NaN   \n",
       "2  1987  18.525813                  Afghanistan          AFG     39.276429   \n",
       "3  1987  18.525813   Africa Western and Central          AFW           NaN   \n",
       "4  1987  18.525813                       Angola          AGO           0.0   \n",
       "\n",
       "   Inflation GDP Growth  \n",
       "0   3.643045  16.078431  \n",
       "1  12.563443   3.964516  \n",
       "2        NaN        NaN  \n",
       "3   0.248789   1.404582  \n",
       "4        NaN   4.082749  "
      ]
     },
     "execution_count": 124,
     "metadata": {},
     "output_type": "execute_result"
    }
   ],
   "source": [
    "combined_data.head()"
   ]
  }
 ],
 "metadata": {
  "kernelspec": {
   "display_name": "myenv",
   "language": "python",
   "name": "python3"
  },
  "language_info": {
   "codemirror_mode": {
    "name": "ipython",
    "version": 3
   },
   "file_extension": ".py",
   "mimetype": "text/x-python",
   "name": "python",
   "nbconvert_exporter": "python",
   "pygments_lexer": "ipython3",
   "version": "3.11.2"
  }
 },
 "nbformat": 4,
 "nbformat_minor": 2
}
