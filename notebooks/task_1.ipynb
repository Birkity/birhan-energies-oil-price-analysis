{
 "cells": [
  {
   "cell_type": "markdown",
   "metadata": {},
   "source": [
    "# Step 1: Data Loading and Initial Inspection"
   ]
  },
  {
   "cell_type": "code",
   "execution_count": 8,
   "metadata": {},
   "outputs": [
    {
     "name": "stdout",
     "output_type": "stream",
     "text": [
      "        Date  Price\n",
      "0  20-May-87  18.63\n",
      "1  21-May-87  18.45\n",
      "2  22-May-87  18.55\n",
      "3  25-May-87  18.60\n",
      "4  26-May-87  18.63\n",
      "<class 'pandas.core.frame.DataFrame'>\n",
      "RangeIndex: 9011 entries, 0 to 9010\n",
      "Data columns (total 2 columns):\n",
      " #   Column  Non-Null Count  Dtype  \n",
      "---  ------  --------------  -----  \n",
      " 0   Date    9011 non-null   object \n",
      " 1   Price   9011 non-null   float64\n",
      "dtypes: float64(1), object(1)\n",
      "memory usage: 140.9+ KB\n",
      "None\n",
      "\n",
      "Missing Values:\n",
      " Date     0\n",
      "Price    0\n",
      "dtype: int64\n",
      "             Price\n",
      "count  9011.000000\n",
      "mean     48.420782\n",
      "std      32.860110\n",
      "min       9.100000\n",
      "25%      19.050000\n",
      "50%      38.570000\n",
      "75%      70.090000\n",
      "max     143.950000\n"
     ]
    }
   ],
   "source": [
    "import pandas as pd\n",
    "\n",
    "df = pd.read_csv('../data/Copy of BrentOilPrices.csv')\n",
    "\n",
    "print(df.head())\n",
    "\n",
    "print(df.info())\n",
    "print(\"\\nMissing Values:\\n\", df.isnull().sum())\n",
    "\n",
    "print(df.describe())"
   ]
  }
 ],
 "metadata": {
  "kernelspec": {
   "display_name": "myenv",
   "language": "python",
   "name": "python3"
  },
  "language_info": {
   "codemirror_mode": {
    "name": "ipython",
    "version": 3
   },
   "file_extension": ".py",
   "mimetype": "text/x-python",
   "name": "python",
   "nbconvert_exporter": "python",
   "pygments_lexer": "ipython3",
   "version": "3.11.2"
  }
 },
 "nbformat": 4,
 "nbformat_minor": 2
}
